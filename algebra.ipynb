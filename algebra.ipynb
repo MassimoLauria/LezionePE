{
 "cells": [
  {
   "cell_type": "markdown",
   "id": "honey-earth",
   "metadata": {},
   "source": [
    "# Operazioni algebriche su array e matrici\n",
    "\n",
    "Abbiamo già visto operazioni algebriche di su array e matrici. Qui le ricapitoliamo e le integriamo"
   ]
  },
  {
   "cell_type": "code",
   "execution_count": 2,
   "id": "linear-somewhere",
   "metadata": {},
   "outputs": [],
   "source": [
    "import numpy as np\n",
    "import matplotlib.pyplot as plt"
   ]
  },
  {
   "cell_type": "markdown",
   "id": "governing-figure",
   "metadata": {},
   "source": [
    "## Operazioni algebriche standard"
   ]
  },
  {
   "cell_type": "code",
   "execution_count": 25,
   "id": "adverse-equation",
   "metadata": {},
   "outputs": [
    {
     "data": {
      "text/plain": [
       "<matplotlib.image.AxesImage at 0x7fb34e6511f0>"
      ]
     },
     "execution_count": 25,
     "metadata": {},
     "output_type": "execute_result"
    },
    {
     "data": {
      "image/png": "[encoded data removed]",
      "text/plain": [
       "<Figure size 576x288 with 1 Axes>"
      ]
     },
     "metadata": {
      "needs_background": "light"
     },
     "output_type": "display_data"
    }
   ],
   "source": [
    "A = np.eye(10,20)\n",
    "B = np.eye(10,20,3)\n",
    "C = np.eye(10,20,6)\n",
    "plt.matshow(A + 2*B+ 7*C - 3)"
   ]
  },
  {
   "cell_type": "code",
   "execution_count": 28,
   "id": "excess-mills",
   "metadata": {},
   "outputs": [
    {
     "data": {
      "text/plain": [
       "array([[  1,   0,   0,   0,   0,   0,   0],\n",
       "       [  0,   8,   0,   0,   0,   0,   0],\n",
       "       [  0,   0,  27,   0,   0,   0,   0],\n",
       "       [  0,   0,   0,  64,   0,   0,   0],\n",
       "       [  0,   0,   0,   0, 125,   0,   0],\n",
       "       [  0,   0,   0,   0,   0, 216,   0],\n",
       "       [  0,   0,   0,   0,   0,   0, 343]])"
      ]
     },
     "execution_count": 28,
     "metadata": {},
     "output_type": "execute_result"
    }
   ],
   "source": [
    "D = np.diag([1,2,3,4,5,6,7])\n",
    "D**3"
   ]
  },
  {
   "cell_type": "markdown",
   "id": "original-edward",
   "metadata": {},
   "source": [
    "## Matrice trasposta"
   ]
  },
  {
   "cell_type": "code",
   "execution_count": 31,
   "id": "incident-cycling",
   "metadata": {},
   "outputs": [
    {
     "data": {
      "image/png": "[encoded data removed]",
      "text/plain": [
       "<Figure size 720x288 with 2 Axes>"
      ]
     },
     "metadata": {
      "needs_background": "light"
     },
     "output_type": "display_data"
    }
   ],
   "source": [
    "A = np.random.rand(4,10)\n",
    "B = np.transpose(A)       # La trasposta\n",
    "\n",
    "fig, ax = plt.subplots(1,2)\n",
    "fig.set_figwidth(10)\n",
    "ax[0].matshow(A)\n",
    "ax[1].matshow(B)\n",
    "plt.show()"
   ]
  },
  {
   "cell_type": "markdown",
   "id": "presidential-authorization",
   "metadata": {},
   "source": [
    "## Prodotto tra matrici (operatore `@`)"
   ]
  },
  {
   "cell_type": "code",
   "execution_count": 49,
   "id": "pacific-board",
   "metadata": {},
   "outputs": [
    {
     "data": {
      "image/png": "[encoded data removed]",
      "text/plain": [
       "<Figure size 1080x288 with 3 Axes>"
      ]
     },
     "metadata": {
      "needs_background": "light"
     },
     "output_type": "display_data"
    }
   ],
   "source": [
    "A = np.random.rand(4,10)\n",
    "B = np.random.rand(10,6)\n",
    "C = A @ B\n",
    "\n",
    "fig, ax = plt.subplots(1,3)\n",
    "fig.set_figwidth(15)\n",
    "ax[0].matshow(A)\n",
    "ax[1].matshow(B)\n",
    "ax[2].matshow(C)\n",
    "plt.show()"
   ]
  },
  {
   "cell_type": "markdown",
   "id": "derived-laser",
   "metadata": {},
   "source": [
    "## Matrice inversa"
   ]
  },
  {
   "cell_type": "code",
   "execution_count": 36,
   "id": "restricted-delay",
   "metadata": {},
   "outputs": [],
   "source": [
    "A = np.random.rand(10,10)\n",
    "B = np.linalg.inv(A)"
   ]
  },
  {
   "cell_type": "code",
   "execution_count": 40,
   "id": "specified-meditation",
   "metadata": {},
   "outputs": [
    {
     "data": {
      "text/plain": [
       "<matplotlib.image.AxesImage at 0x7fb34c98e9d0>"
      ]
     },
     "execution_count": 40,
     "metadata": {},
     "output_type": "execute_result"
    },
    {
     "data": {
      "image/png": "[encoded data removed]",
      "text/plain": [
       "<Figure size 288x288 with 1 Axes>"
      ]
     },
     "metadata": {
      "needs_background": "light"
     },
     "output_type": "display_data"
    }
   ],
   "source": [
    "plt.matshow(A @ B)"
   ]
  },
  {
   "cell_type": "markdown",
   "id": "leading-motor",
   "metadata": {},
   "source": [
    "## Decomposizioni\n",
    "\n",
    "Le matrici sono un concetto importante e utilissimo. Per manipolarle e analizzarle al meglio esistono diverse decomposizioni utili. Chiaramente `numpy` implementa le principali.\n",
    "\n",
    " - Singular Value Decomposition\n",
    " - Calcolo degli autovalori\n",
    " - "
   ]
  },
  {
   "cell_type": "code",
   "execution_count": 60,
   "id": "united-protest",
   "metadata": {},
   "outputs": [
    {
     "data": {
      "image/png": "[encoded data removed]",
      "text/plain": [
       "<Figure size 1080x288 with 3 Axes>"
      ]
     },
     "metadata": {
      "needs_background": "light"
     },
     "output_type": "display_data"
    }
   ],
   "source": [
    "A = np.random.rand(3,7)\n",
    "\n",
    "S,V,D = np.linalg.svd(A) # SVD decomposition\n",
    "\n",
    "Vm = np.diag(V)\n",
    "\n",
    "fig, ax = plt.subplots(1,3)\n",
    "fig.set_figwidth(15)\n",
    "ax[0].matshow(S)\n",
    "ax[1].matshow(Vm)\n",
    "ax[2].matshow(D)\n",
    "plt.show()"
   ]
  },
  {
   "cell_type": "code",
   "execution_count": 62,
   "id": "danish-begin",
   "metadata": {},
   "outputs": [
    {
     "name": "stdout",
     "output_type": "stream",
     "text": [
      "[ 0.00000000e+00  7.00000000e+00  2.46519033e-32 -2.71947991e-16\n",
      "  0.00000000e+00  0.00000000e+00  0.00000000e+00]\n"
     ]
    }
   ],
   "source": [
    "A = np.ones((7,7))\n",
    "\n",
    "e = np.linalg.eigvals(A)  # calcolo degli autovalori\n",
    "\n",
    "print(e)"
   ]
  },
  {
   "cell_type": "markdown",
   "id": "environmental-gamma",
   "metadata": {},
   "source": [
    "## Soluzione di un sistema lineare\n",
    "\n",
    "Naturlamente un sistema lineare si può risolvere agevolmente visto che sappiamo come calcolare l'inversa di una matrice. Tuttavia `numpy` ha una funzione apposita per risolvere\n",
    "$$\n",
    "A x = b\n",
    "$$\n",
    "per $A$ che è una matrice quadrata non singolare."
   ]
  },
  {
   "cell_type": "code",
   "execution_count": 73,
   "id": "annual-gambling",
   "metadata": {},
   "outputs": [
    {
     "data": {
      "text/plain": [
       "array([ 8.51613322e-02, -2.36813747e-01,  2.91806552e-02, -1.41625241e-02,\n",
       "        8.52797942e-03, -1.98064487e-01, -7.30585272e-02, -6.47958619e-02,\n",
       "        1.87983494e-02, -2.11076056e-01, -1.00213564e-01,  8.82073072e-02,\n",
       "        2.36561844e-01,  3.79969097e-03,  8.77664275e-02,  1.51649416e-01,\n",
       "       -4.23764349e-02,  1.85556310e-02,  2.40853201e-01, -1.43155273e-01,\n",
       "       -2.98045537e-01, -1.93519298e-01, -2.47935841e-01, -6.57743846e-02,\n",
       "       -1.60592614e-01, -4.14810135e-02,  3.61277553e-02,  1.81126987e-01,\n",
       "        5.56481932e-02,  1.04333359e-01,  1.51386863e-01,  1.02578854e-01,\n",
       "        4.01495802e-02, -1.28960785e-01, -4.67517420e-02,  1.24859470e-02,\n",
       "        1.71508326e-01, -2.22973373e-04,  8.25541120e-02,  6.55456055e-02,\n",
       "       -5.13632988e-02,  2.72415440e-02,  1.34673396e-01,  2.60861744e-03,\n",
       "       -9.19676806e-03,  4.26164047e-02,  2.82577195e-02,  2.99575000e-01,\n",
       "        9.46324177e-02, -1.44076004e-01, -3.93558192e-02,  4.97854187e-02,\n",
       "        2.51858984e-01,  5.35934405e-02,  1.17577720e-01,  8.99340631e-02,\n",
       "        5.58220827e-02,  5.04521506e-03,  6.27768606e-02,  8.00453244e-02,\n",
       "       -1.92779328e-03, -3.82586833e-02,  1.76583478e-01, -2.21919908e-02,\n",
       "        8.71986237e-02, -1.34385455e-02,  1.42502774e-01,  1.83777571e-02,\n",
       "       -6.93850539e-02,  1.81328990e-01,  6.56224940e-02,  2.57034777e-01,\n",
       "        8.23653857e-02,  4.74009529e-02,  1.15302397e-01,  1.54102530e-02,\n",
       "        4.99616114e-02,  1.70792271e-02, -1.02046439e-01, -3.07929271e-03,\n",
       "        5.88701376e-02, -2.45601491e-02, -1.96903027e-01, -2.25550180e-01,\n",
       "       -3.30870410e-02, -1.47399284e-01,  8.50670391e-03,  1.16045779e-01,\n",
       "       -3.99020197e-03,  1.80456982e-01,  4.92389372e-02, -7.58004062e-02,\n",
       "        8.66252822e-02,  6.95421178e-02, -6.83377034e-02,  5.46093615e-02,\n",
       "       -1.18171618e-01,  1.74832410e-01,  2.54926767e-01, -7.26410073e-03])"
      ]
     },
     "execution_count": 73,
     "metadata": {},
     "output_type": "execute_result"
    }
   ],
   "source": [
    "A = np.random.rand(100,100)\n",
    "b = np.ones(100)\n",
    "\n",
    "np.linalg.solve(A,b)"
   ]
  },
  {
   "cell_type": "markdown",
   "id": "removed-motorcycle",
   "metadata": {},
   "source": [
    "### Il metodo `solve` può fallire anche se la soluzione esiste\n",
    "\n",
    "Vediamo un esempio che ha una soluzione, ma in cui la matrice $A$ non è invertibile.\n",
    "\n",
    "$$\n",
    "\\begin{bmatrix}\n",
    "1 & 1 \\\\\n",
    "2 & 2 \n",
    "\\end{bmatrix} \n",
    "\\cdot x = \n",
    "\\begin{bmatrix}\n",
    "1 \\\\\n",
    "2 \n",
    "\\end{bmatrix} \n",
    "$$\n",
    "\n",
    "ha banalmente una soluzione $x=[0,1]^T$ tuttavia il metodo `solve` fallisce."
   ]
  },
  {
   "cell_type": "code",
   "execution_count": 75,
   "id": "pressed-satin",
   "metadata": {},
   "outputs": [
    {
     "ename": "LinAlgError",
     "evalue": "Singular matrix",
     "output_type": "error",
     "traceback": [
      "\u001b[1;31m---------------------------------------------------------------------------\u001b[0m",
      "\u001b[1;31mLinAlgError\u001b[0m                               Traceback (most recent call last)",
      "\u001b[1;32m<ipython-input-75-d1c287465fa0>\u001b[0m in \u001b[0;36m<module>\u001b[1;34m\u001b[0m\n\u001b[0;32m      2\u001b[0m \u001b[0mb\u001b[0m \u001b[1;33m=\u001b[0m \u001b[0mnp\u001b[0m\u001b[1;33m.\u001b[0m\u001b[0marray\u001b[0m\u001b[1;33m(\u001b[0m\u001b[1;33m[\u001b[0m\u001b[1;36m1\u001b[0m\u001b[1;33m,\u001b[0m\u001b[1;36m2\u001b[0m\u001b[1;33m]\u001b[0m\u001b[1;33m)\u001b[0m\u001b[1;33m\u001b[0m\u001b[1;33m\u001b[0m\u001b[0m\n\u001b[0;32m      3\u001b[0m \u001b[1;33m\u001b[0m\u001b[0m\n\u001b[1;32m----> 4\u001b[1;33m \u001b[0mnp\u001b[0m\u001b[1;33m.\u001b[0m\u001b[0mlinalg\u001b[0m\u001b[1;33m.\u001b[0m\u001b[0msolve\u001b[0m\u001b[1;33m(\u001b[0m\u001b[0mA\u001b[0m\u001b[1;33m,\u001b[0m\u001b[0mb\u001b[0m\u001b[1;33m)\u001b[0m\u001b[1;33m\u001b[0m\u001b[1;33m\u001b[0m\u001b[0m\n\u001b[0m",
      "\u001b[1;32m<__array_function__ internals>\u001b[0m in \u001b[0;36msolve\u001b[1;34m(*args, **kwargs)\u001b[0m\n",
      "\u001b[1;32m~/.pyenv/versions/3.9.1/lib/python3.9/site-packages/numpy/linalg/linalg.py\u001b[0m in \u001b[0;36msolve\u001b[1;34m(a, b)\u001b[0m\n\u001b[0;32m    391\u001b[0m     \u001b[0msignature\u001b[0m \u001b[1;33m=\u001b[0m \u001b[1;34m'DD->D'\u001b[0m \u001b[1;32mif\u001b[0m \u001b[0misComplexType\u001b[0m\u001b[1;33m(\u001b[0m\u001b[0mt\u001b[0m\u001b[1;33m)\u001b[0m \u001b[1;32melse\u001b[0m \u001b[1;34m'dd->d'\u001b[0m\u001b[1;33m\u001b[0m\u001b[1;33m\u001b[0m\u001b[0m\n\u001b[0;32m    392\u001b[0m     \u001b[0mextobj\u001b[0m \u001b[1;33m=\u001b[0m \u001b[0mget_linalg_error_extobj\u001b[0m\u001b[1;33m(\u001b[0m\u001b[0m_raise_linalgerror_singular\u001b[0m\u001b[1;33m)\u001b[0m\u001b[1;33m\u001b[0m\u001b[1;33m\u001b[0m\u001b[0m\n\u001b[1;32m--> 393\u001b[1;33m     \u001b[0mr\u001b[0m \u001b[1;33m=\u001b[0m \u001b[0mgufunc\u001b[0m\u001b[1;33m(\u001b[0m\u001b[0ma\u001b[0m\u001b[1;33m,\u001b[0m \u001b[0mb\u001b[0m\u001b[1;33m,\u001b[0m \u001b[0msignature\u001b[0m\u001b[1;33m=\u001b[0m\u001b[0msignature\u001b[0m\u001b[1;33m,\u001b[0m \u001b[0mextobj\u001b[0m\u001b[1;33m=\u001b[0m\u001b[0mextobj\u001b[0m\u001b[1;33m)\u001b[0m\u001b[1;33m\u001b[0m\u001b[1;33m\u001b[0m\u001b[0m\n\u001b[0m\u001b[0;32m    394\u001b[0m \u001b[1;33m\u001b[0m\u001b[0m\n\u001b[0;32m    395\u001b[0m     \u001b[1;32mreturn\u001b[0m \u001b[0mwrap\u001b[0m\u001b[1;33m(\u001b[0m\u001b[0mr\u001b[0m\u001b[1;33m.\u001b[0m\u001b[0mastype\u001b[0m\u001b[1;33m(\u001b[0m\u001b[0mresult_t\u001b[0m\u001b[1;33m,\u001b[0m \u001b[0mcopy\u001b[0m\u001b[1;33m=\u001b[0m\u001b[1;32mFalse\u001b[0m\u001b[1;33m)\u001b[0m\u001b[1;33m)\u001b[0m\u001b[1;33m\u001b[0m\u001b[1;33m\u001b[0m\u001b[0m\n",
      "\u001b[1;32m~/.pyenv/versions/3.9.1/lib/python3.9/site-packages/numpy/linalg/linalg.py\u001b[0m in \u001b[0;36m_raise_linalgerror_singular\u001b[1;34m(err, flag)\u001b[0m\n\u001b[0;32m     86\u001b[0m \u001b[1;33m\u001b[0m\u001b[0m\n\u001b[0;32m     87\u001b[0m \u001b[1;32mdef\u001b[0m \u001b[0m_raise_linalgerror_singular\u001b[0m\u001b[1;33m(\u001b[0m\u001b[0merr\u001b[0m\u001b[1;33m,\u001b[0m \u001b[0mflag\u001b[0m\u001b[1;33m)\u001b[0m\u001b[1;33m:\u001b[0m\u001b[1;33m\u001b[0m\u001b[1;33m\u001b[0m\u001b[0m\n\u001b[1;32m---> 88\u001b[1;33m     \u001b[1;32mraise\u001b[0m \u001b[0mLinAlgError\u001b[0m\u001b[1;33m(\u001b[0m\u001b[1;34m\"Singular matrix\"\u001b[0m\u001b[1;33m)\u001b[0m\u001b[1;33m\u001b[0m\u001b[1;33m\u001b[0m\u001b[0m\n\u001b[0m\u001b[0;32m     89\u001b[0m \u001b[1;33m\u001b[0m\u001b[0m\n\u001b[0;32m     90\u001b[0m \u001b[1;32mdef\u001b[0m \u001b[0m_raise_linalgerror_nonposdef\u001b[0m\u001b[1;33m(\u001b[0m\u001b[0merr\u001b[0m\u001b[1;33m,\u001b[0m \u001b[0mflag\u001b[0m\u001b[1;33m)\u001b[0m\u001b[1;33m:\u001b[0m\u001b[1;33m\u001b[0m\u001b[1;33m\u001b[0m\u001b[0m\n",
      "\u001b[1;31mLinAlgError\u001b[0m: Singular matrix"
     ]
    }
   ],
   "source": [
    "\n",
    "A = np.array([[1,1],[2,2]])\n",
    "b = np.array([1,2])\n",
    "\n",
    "np.linalg.solve(A,b)"
   ]
  },
  {
   "cell_type": "code",
   "execution_count": null,
   "id": "brown-majority",
   "metadata": {},
   "outputs": [],
   "source": []
  }
 ],
 "metadata": {
  "kernelspec": {
   "display_name": "Python 3",
   "language": "python",
   "name": "python3"
  },
  "language_info": {
   "codemirror_mode": {
    "name": "ipython",
    "version": 3
   },
   "file_extension": ".py",
   "mimetype": "text/x-python",
   "name": "python",
   "nbconvert_exporter": "python",
   "pygments_lexer": "ipython3",
   "version": "3.9.1"
  }
 },
 "nbformat": 4,
 "nbformat_minor": 5
}
