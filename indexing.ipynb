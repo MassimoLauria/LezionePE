{
 "cells": [
  {
   "cell_type": "markdown",
   "id": "australian-victorian",
   "metadata": {},
   "source": [
    "# Indicizzazione\n",
    "\n",
    "Come sappiamo ci sono diversi modi per accedere agli elementi di una lista python, ad esempio\n",
    "\n",
    "- `L[4]` per acccedere ad un elemento specifico\n",
    "- `L[-2]` stessa cosa ma partendo dalla fine\n",
    "- `L[1:3]` un segmento della lista (l'elemento in posizione 3 è escluso)\n",
    "- `L[2:11:3]` elementi in pos. 2, 5, 8 \n",
    "- `L[::-1]` elementi in sequenza inversa\n",
    "\n",
    "e abbiamo visto che queste indicizzazioni possono essere usate **per modificare** il contenuto della lista, o per **copiane** una parte.\n",
    "\n",
    "Gli array multidimensionali di `numpy` permettono di accedere agli elementi in vari modi, ma la forma base è quella per cui un'elemento dell'array è selezionato tramite una tupla di indici."
   ]
  },
  {
   "cell_type": "code",
   "execution_count": 51,
   "id": "progressive-inspector",
   "metadata": {},
   "outputs": [],
   "source": [
    "import numpy as np\n",
    "import matplotlib.pyplot as plt"
   ]
  },
  {
   "cell_type": "code",
   "execution_count": 58,
   "id": "modified-hundred",
   "metadata": {},
   "outputs": [
    {
     "data": {
      "text/plain": [
       "2"
      ]
     },
     "execution_count": 58,
     "metadata": {},
     "output_type": "execute_result"
    }
   ],
   "source": [
    "A = np.array([[[1,2,6],[-3,4,7]],[[1,2,6],[-3,4,7]]])\n",
    "A[1,0,1]"
   ]
  },
  {
   "cell_type": "markdown",
   "id": "flying-supply",
   "metadata": {},
   "source": [
    "Se poi gli indici passati nella tupla sono in quantità minore delle dimensioni dell'array, si otterrà un sotto-array."
   ]
  },
  {
   "cell_type": "code",
   "execution_count": 63,
   "id": "tutorial-wonder",
   "metadata": {},
   "outputs": [
    {
     "name": "stdout",
     "output_type": "stream",
     "text": [
      "Specifico un indice, ottengo un array 2-dimensionale\n",
      "[[ 1  2  6]\n",
      " [-3  4  7]]\n",
      "Specifico due indici, ottengo un array 1-dimensionale\n",
      "[-3  4  7]\n"
     ]
    }
   ],
   "source": [
    "print(\"Specifico un indice, ottengo un array 2-dimensionale\")\n",
    "print(A[1])\n",
    "print(\"Specifico due indici, ottengo un array 1-dimensionale\")\n",
    "print(A[0,1])"
   ]
  },
  {
   "cell_type": "markdown",
   "id": "third-sierra",
   "metadata": {},
   "source": [
    "Tuttavia esistono molti altri modi per selezionare sotto-parti dell'array. Ad esempio\n",
    "- `A[0,:,2::3]` indicizzazione e slicing lungo una o più coordinate\n",
    "- `A[(1,5,2,8)]` selezione di posizioni specifiche (1-dimensionale)\n",
    "- `A[ [[True,False],[False,True]] ]` selezione di valori attraverso booleani\n",
    "\n",
    "L'indicizzazione usando le slice permette di **modificare** ma anche di ottenere una **vista** si una sottomatrice, senza produrne una copia.\n",
    "\n",
    "L'indicizzazione attraverso la selezione di posizioni specifiche, o via booleani, permette di **modificare** l'array, ma anche di ottenere una **copia 1-dimensionale** delle posizioni scelte."
   ]
  },
  {
   "cell_type": "markdown",
   "id": "standing-transition",
   "metadata": {},
   "source": [
    "## Slicing multi-dimensionale\n",
    "\n",
    "È possibile effettuare uno slicing simultaneo lungo ogni dimensione."
   ]
  },
  {
   "cell_type": "code",
   "execution_count": 93,
   "id": "perfect-railway",
   "metadata": {},
   "outputs": [],
   "source": [
    "def f(r, c): \n",
    "    return r + 10 * c\n",
    "    \n",
    "A = np.fromfunction(f, (6, 6), dtype=int)"
   ]
  },
  {
   "cell_type": "code",
   "execution_count": 94,
   "id": "restricted-distinction",
   "metadata": {},
   "outputs": [
    {
     "data": {
      "text/plain": [
       "array([[ 0, 10, 20, 30, 40, 50],\n",
       "       [ 1, 11, 21, 31, 41, 51],\n",
       "       [ 2, 12, 22, 32, 42, 52],\n",
       "       [ 3, 13, 23, 33, 43, 53],\n",
       "       [ 4, 14, 24, 34, 44, 54],\n",
       "       [ 5, 15, 25, 35, 45, 55]])"
      ]
     },
     "execution_count": 94,
     "metadata": {},
     "output_type": "execute_result"
    }
   ],
   "source": [
    "A"
   ]
  },
  {
   "cell_type": "code",
   "execution_count": 95,
   "id": "constant-prague",
   "metadata": {},
   "outputs": [
    {
     "data": {
      "text/plain": [
       "array([[ 0, 10, 20],\n",
       "       [ 1, 11, 21],\n",
       "       [ 2, 12, 22]])"
      ]
     },
     "execution_count": 95,
     "metadata": {},
     "output_type": "execute_result"
    }
   ],
   "source": [
    "A[:3,:3]  # alto a sinistra"
   ]
  },
  {
   "cell_type": "code",
   "execution_count": 96,
   "id": "numeric-philadelphia",
   "metadata": {},
   "outputs": [
    {
     "data": {
      "text/plain": [
       "array([[ 0, 10, 20, 30],\n",
       "       [ 2, 12, 22, 32],\n",
       "       [ 4, 14, 24, 34]])"
      ]
     },
     "execution_count": 96,
     "metadata": {},
     "output_type": "execute_result"
    }
   ],
   "source": [
    "A[::2,:4] # righe pari, prime 4 colonne"
   ]
  },
  {
   "cell_type": "code",
   "execution_count": 97,
   "id": "isolated-senegal",
   "metadata": {},
   "outputs": [
    {
     "data": {
      "text/plain": [
       "array([ 3, 13, 23, 33, 43, 53])"
      ]
     },
     "execution_count": 97,
     "metadata": {},
     "output_type": "execute_result"
    }
   ],
   "source": [
    "A[3,:] # riga 3"
   ]
  },
  {
   "cell_type": "code",
   "execution_count": 98,
   "id": "powerful-carolina",
   "metadata": {},
   "outputs": [
    {
     "data": {
      "text/plain": [
       "array([20, 21, 22, 23, 24, 25])"
      ]
     },
     "execution_count": 98,
     "metadata": {},
     "output_type": "execute_result"
    }
   ],
   "source": [
    "A[:,2] # colonna 2"
   ]
  },
  {
   "cell_type": "code",
   "execution_count": 99,
   "id": "regional-provider",
   "metadata": {},
   "outputs": [
    {
     "data": {
      "text/plain": [
       "array([[10, 30, 50],\n",
       "       [11, 31, 51],\n",
       "       [12, 32, 52],\n",
       "       [13, 33, 53],\n",
       "       [14, 34, 54],\n",
       "       [15, 35, 55]])"
      ]
     },
     "execution_count": 99,
     "metadata": {},
     "output_type": "execute_result"
    }
   ],
   "source": [
    "A[:,1::2] # colonne 1,3,5"
   ]
  },
  {
   "cell_type": "markdown",
   "id": "judicial-heavy",
   "metadata": {},
   "source": [
    "### Assegnamento e slicing\n",
    "\n",
    "È possibile assegnare dei valori alla parte di matrice selezionata, assumendo che le dimensioni della parte assegnata siano compatibili con quelle della parte che riceve i valori. Non deve essere necessariamente uguale, ma deve essere **compatibile**, vedi [Broadcasting](https://numpy.org/doc/stable/user/basics.broadcasting.html)."
   ]
  },
  {
   "cell_type": "code",
   "execution_count": 100,
   "id": "raised-carter",
   "metadata": {},
   "outputs": [],
   "source": [
    "A = np.ones((5,6))\n",
    "B = np.zeros((4,4))"
   ]
  },
  {
   "cell_type": "code",
   "execution_count": 101,
   "id": "juvenile-moldova",
   "metadata": {},
   "outputs": [
    {
     "data": {
      "text/plain": [
       "array([[1., 1., 1., 1., 1., 1.],\n",
       "       [1., 1., 1., 1., 1., 1.],\n",
       "       [1., 1., 1., 1., 1., 1.],\n",
       "       [1., 1., 1., 1., 1., 1.],\n",
       "       [1., 1., 1., 1., 1., 1.]])"
      ]
     },
     "execution_count": 101,
     "metadata": {},
     "output_type": "execute_result"
    }
   ],
   "source": [
    "A"
   ]
  },
  {
   "cell_type": "code",
   "execution_count": 102,
   "id": "eastern-portable",
   "metadata": {},
   "outputs": [
    {
     "data": {
      "text/plain": [
       "array([[0., 0., 0., 0.],\n",
       "       [0., 0., 0., 0.],\n",
       "       [0., 0., 0., 0.],\n",
       "       [0., 0., 0., 0.]])"
      ]
     },
     "execution_count": 102,
     "metadata": {},
     "output_type": "execute_result"
    }
   ],
   "source": [
    "B"
   ]
  },
  {
   "cell_type": "code",
   "execution_count": 103,
   "id": "phantom-organic",
   "metadata": {},
   "outputs": [],
   "source": [
    "A[1:,2:] = B"
   ]
  },
  {
   "cell_type": "code",
   "execution_count": 104,
   "id": "abroad-potential",
   "metadata": {},
   "outputs": [
    {
     "data": {
      "text/plain": [
       "array([[1., 1., 1., 1., 1., 1.],\n",
       "       [1., 1., 0., 0., 0., 0.],\n",
       "       [1., 1., 0., 0., 0., 0.],\n",
       "       [1., 1., 0., 0., 0., 0.],\n",
       "       [1., 1., 0., 0., 0., 0.]])"
      ]
     },
     "execution_count": 104,
     "metadata": {},
     "output_type": "execute_result"
    }
   ],
   "source": [
    "A"
   ]
  },
  {
   "cell_type": "code",
   "execution_count": 105,
   "id": "immediate-catch",
   "metadata": {},
   "outputs": [],
   "source": [
    "A[2:4,2:] = 3"
   ]
  },
  {
   "cell_type": "code",
   "execution_count": 106,
   "id": "desperate-width",
   "metadata": {},
   "outputs": [
    {
     "data": {
      "text/plain": [
       "array([[1., 1., 1., 1., 1., 1.],\n",
       "       [1., 1., 0., 0., 0., 0.],\n",
       "       [1., 1., 3., 3., 3., 3.],\n",
       "       [1., 1., 3., 3., 3., 3.],\n",
       "       [1., 1., 0., 0., 0., 0.]])"
      ]
     },
     "execution_count": 106,
     "metadata": {},
     "output_type": "execute_result"
    }
   ],
   "source": [
    "A"
   ]
  },
  {
   "cell_type": "markdown",
   "id": "animated-mainland",
   "metadata": {},
   "source": [
    "## Lo slicing produce una \"vista\" sugli stessi dati\n",
    "\n",
    "Quando selezioniamo una porzione di matrice attraverso lo slicing non viene prodotta una copia dei dati selezionati, al **contrario di quello che accade con lo slicing di liste python**. Invece viene prodotto un array che fornisce una vista degli stessi dati, contenuti in quella porzione."
   ]
  },
  {
   "cell_type": "code",
   "execution_count": 158,
   "id": "based-stock",
   "metadata": {},
   "outputs": [
    {
     "data": {
      "text/plain": [
       "array([[1, 1, 1, 1, 1],\n",
       "       [1, 1, 1, 1, 1]])"
      ]
     },
     "execution_count": 158,
     "metadata": {},
     "output_type": "execute_result"
    }
   ],
   "source": [
    "A = np.ones((5,6),'int64')\n",
    "\n",
    "B = A[3:,:5]\n",
    "B"
   ]
  },
  {
   "cell_type": "code",
   "execution_count": 159,
   "id": "enhanced-baptist",
   "metadata": {},
   "outputs": [],
   "source": [
    "B[0,3] = 3"
   ]
  },
  {
   "cell_type": "code",
   "execution_count": 160,
   "id": "outside-officer",
   "metadata": {},
   "outputs": [
    {
     "data": {
      "text/plain": [
       "array([[1, 1, 1, 1, 1, 1],\n",
       "       [1, 1, 1, 1, 1, 1],\n",
       "       [1, 1, 1, 1, 1, 1],\n",
       "       [1, 1, 1, 3, 1, 1],\n",
       "       [1, 1, 1, 1, 1, 1]])"
      ]
     },
     "execution_count": 160,
     "metadata": {},
     "output_type": "execute_result"
    }
   ],
   "source": [
    "A"
   ]
  },
  {
   "cell_type": "code",
   "execution_count": 161,
   "id": "addressed-booking",
   "metadata": {},
   "outputs": [],
   "source": [
    "B *= 5"
   ]
  },
  {
   "cell_type": "code",
   "execution_count": 162,
   "id": "orange-receipt",
   "metadata": {},
   "outputs": [
    {
     "data": {
      "text/plain": [
       "array([[ 1,  1,  1,  1,  1,  1],\n",
       "       [ 1,  1,  1,  1,  1,  1],\n",
       "       [ 1,  1,  1,  1,  1,  1],\n",
       "       [ 5,  5,  5, 15,  5,  1],\n",
       "       [ 5,  5,  5,  5,  5,  1]])"
      ]
     },
     "execution_count": 162,
     "metadata": {},
     "output_type": "execute_result"
    }
   ],
   "source": [
    "A"
   ]
  },
  {
   "cell_type": "markdown",
   "id": "alleged-ranch",
   "metadata": {},
   "source": [
    "Se si vuole una copia si può sempre usare il metodo `copy`."
   ]
  },
  {
   "cell_type": "code",
   "execution_count": 170,
   "id": "decimal-mitchell",
   "metadata": {},
   "outputs": [
    {
     "data": {
      "text/plain": [
       "array([[1, 1],\n",
       "       [7, 7]])"
      ]
     },
     "execution_count": 170,
     "metadata": {},
     "output_type": "execute_result"
    }
   ],
   "source": [
    "C = A[:2,:2].copy()\n",
    "C[1,:] = 7\n",
    "C"
   ]
  },
  {
   "cell_type": "code",
   "execution_count": 171,
   "id": "instructional-scheduling",
   "metadata": {},
   "outputs": [
    {
     "data": {
      "text/plain": [
       "array([[ 1,  1,  1,  1,  1,  1],\n",
       "       [ 1,  1,  1,  1,  1,  1],\n",
       "       [ 1,  1,  1,  1,  1,  1],\n",
       "       [ 5,  5,  5, 15,  5,  1],\n",
       "       [ 5,  5,  5,  5,  5,  1]])"
      ]
     },
     "execution_count": 171,
     "metadata": {},
     "output_type": "execute_result"
    }
   ],
   "source": [
    "A"
   ]
  },
  {
   "cell_type": "markdown",
   "id": "atomic-fellowship",
   "metadata": {},
   "source": [
    "## Selezione di posizioni tramite indici o booleani\n",
    "\n",
    "Esiste un modo più preciso di selezionare elementi. Cominciamo con il caso **1-dimensionale**, dove è possibile scegliere ad uno ad uno gli elementi dell'array indicando\n",
    "- un valore vero/falso per ogni posizione dell'array;\n",
    "- oppure l'elenco di posizioni scelte."
   ]
  },
  {
   "cell_type": "code",
   "execution_count": 125,
   "id": "bottom-asbestos",
   "metadata": {},
   "outputs": [
    {
     "data": {
      "text/plain": [
       "array([ 0,  7, 14, 21, 28, 35, 42, 49, 56, 63])"
      ]
     },
     "execution_count": 125,
     "metadata": {},
     "output_type": "execute_result"
    }
   ],
   "source": [
    "A = np.arange(0,68,7)\n",
    "A"
   ]
  },
  {
   "cell_type": "code",
   "execution_count": 126,
   "id": "turkish-corporation",
   "metadata": {},
   "outputs": [],
   "source": [
    "B = A[[3,5,1,4]]"
   ]
  },
  {
   "cell_type": "code",
   "execution_count": 127,
   "id": "afraid-discount",
   "metadata": {},
   "outputs": [
    {
     "data": {
      "text/plain": [
       "array([21, 35,  7, 28])"
      ]
     },
     "execution_count": 127,
     "metadata": {},
     "output_type": "execute_result"
    }
   ],
   "source": [
    "B"
   ]
  },
  {
   "cell_type": "markdown",
   "id": "instrumental-ratio",
   "metadata": {},
   "source": [
    "Abbiamo selezionato gli elementi alle posizioni 3, 5, 1, e 4 in quest'ordine."
   ]
  },
  {
   "cell_type": "code",
   "execution_count": 129,
   "id": "christian-combat",
   "metadata": {},
   "outputs": [],
   "source": [
    "A[[1,5,6]]=3  # Modifichiamo una selezione dei valori"
   ]
  },
  {
   "cell_type": "code",
   "execution_count": 130,
   "id": "involved-evening",
   "metadata": {},
   "outputs": [
    {
     "data": {
      "text/plain": [
       "array([ 0,  3, 14, 21, 28,  3,  3, 49, 56, 63])"
      ]
     },
     "execution_count": 130,
     "metadata": {},
     "output_type": "execute_result"
    }
   ],
   "source": [
    "A"
   ]
  },
  {
   "cell_type": "code",
   "execution_count": 131,
   "id": "adjusted-filter",
   "metadata": {},
   "outputs": [],
   "source": [
    "A[[6,8]] = [100,200]"
   ]
  },
  {
   "cell_type": "code",
   "execution_count": 132,
   "id": "limited-genetics",
   "metadata": {},
   "outputs": [
    {
     "data": {
      "text/plain": [
       "array([  0,   3,  14,  21,  28,   3, 100,  49, 200,  63])"
      ]
     },
     "execution_count": 132,
     "metadata": {},
     "output_type": "execute_result"
    }
   ],
   "source": [
    "A"
   ]
  },
  {
   "cell_type": "markdown",
   "id": "distinguished-assistant",
   "metadata": {},
   "source": [
    "Adesso vediamo come si possono fare le stesse operazioni usando la selezione posizione per posizione con i booleani."
   ]
  },
  {
   "cell_type": "code",
   "execution_count": 148,
   "id": "fitted-visiting",
   "metadata": {},
   "outputs": [
    {
     "data": {
      "text/plain": [
       "array([ 0,  7, 14, 21, 28, 35, 42, 49, 56, 63])"
      ]
     },
     "execution_count": 148,
     "metadata": {},
     "output_type": "execute_result"
    }
   ],
   "source": [
    "A = np.arange(0,68,7)\n",
    "A"
   ]
  },
  {
   "cell_type": "code",
   "execution_count": 149,
   "id": "appreciated-horizon",
   "metadata": {},
   "outputs": [],
   "source": [
    "B = A[[False,True,False,True,True,True,False,False,False,False]]"
   ]
  },
  {
   "cell_type": "code",
   "execution_count": 150,
   "id": "blond-vertical",
   "metadata": {},
   "outputs": [
    {
     "data": {
      "text/plain": [
       "array([ 7, 21, 28, 35])"
      ]
     },
     "execution_count": 150,
     "metadata": {},
     "output_type": "execute_result"
    }
   ],
   "source": [
    "B"
   ]
  },
  {
   "cell_type": "markdown",
   "id": "relative-dylan",
   "metadata": {},
   "source": [
    "Abbiamo selezionato gli elementi alle posizioni 1, 3, 4, e 5. L'ordine è forzato, in questo caso."
   ]
  },
  {
   "cell_type": "code",
   "execution_count": 153,
   "id": "fluid-spelling",
   "metadata": {},
   "outputs": [],
   "source": [
    "A[[False,True,False,False,False,True,True,False,False,False]] = 3"
   ]
  },
  {
   "cell_type": "code",
   "execution_count": 154,
   "id": "quantitative-arlington",
   "metadata": {},
   "outputs": [
    {
     "data": {
      "text/plain": [
       "array([ 0,  3, 14, 21, 28,  3,  3, 49, 56, 63])"
      ]
     },
     "execution_count": 154,
     "metadata": {},
     "output_type": "execute_result"
    }
   ],
   "source": [
    "A"
   ]
  },
  {
   "cell_type": "code",
   "execution_count": 155,
   "id": "premier-change",
   "metadata": {},
   "outputs": [],
   "source": [
    "A[[False,False,False,False,False,False,True,False,True,False]] = [100,200]"
   ]
  },
  {
   "cell_type": "code",
   "execution_count": 156,
   "id": "billion-software",
   "metadata": {},
   "outputs": [
    {
     "data": {
      "text/plain": [
       "array([  0,   3,  14,  21,  28,   3, 100,  49, 200,  63])"
      ]
     },
     "execution_count": 156,
     "metadata": {},
     "output_type": "execute_result"
    }
   ],
   "source": [
    "A"
   ]
  },
  {
   "cell_type": "markdown",
   "id": "welcome-armstrong",
   "metadata": {},
   "source": [
    "## La selezione per indici o per booleani copia i dati\n",
    "\n",
    "Al contrario dello slicing, questo tipo di selezione non produce una vista, ma una nuova copia dei dati."
   ]
  },
  {
   "cell_type": "code",
   "execution_count": 172,
   "id": "coupled-dispute",
   "metadata": {},
   "outputs": [
    {
     "data": {
      "text/plain": [
       "array([ 0,  7, 14, 21, 28, 35, 42, 49, 56, 63])"
      ]
     },
     "execution_count": 172,
     "metadata": {},
     "output_type": "execute_result"
    }
   ],
   "source": [
    "A = np.arange(0,68,7)\n",
    "A"
   ]
  },
  {
   "cell_type": "code",
   "execution_count": 179,
   "id": "accompanied-editor",
   "metadata": {},
   "outputs": [],
   "source": [
    "B = A[[1,3,5]]"
   ]
  },
  {
   "cell_type": "code",
   "execution_count": 180,
   "id": "sophisticated-elimination",
   "metadata": {},
   "outputs": [
    {
     "data": {
      "text/plain": [
       "array([ 7, 21, 35])"
      ]
     },
     "execution_count": 180,
     "metadata": {},
     "output_type": "execute_result"
    }
   ],
   "source": [
    "B"
   ]
  },
  {
   "cell_type": "code",
   "execution_count": 181,
   "id": "victorian-algebra",
   "metadata": {},
   "outputs": [],
   "source": [
    "B *= 10"
   ]
  },
  {
   "cell_type": "code",
   "execution_count": 182,
   "id": "fabulous-oklahoma",
   "metadata": {},
   "outputs": [
    {
     "data": {
      "text/plain": [
       "array([ 70, 210, 350])"
      ]
     },
     "execution_count": 182,
     "metadata": {},
     "output_type": "execute_result"
    }
   ],
   "source": [
    "B"
   ]
  },
  {
   "cell_type": "code",
   "execution_count": 183,
   "id": "annoying-chassis",
   "metadata": {},
   "outputs": [
    {
     "data": {
      "text/plain": [
       "array([ 0,  7, 14, 21, 28, 35, 42, 49, 56, 63])"
      ]
     },
     "execution_count": 183,
     "metadata": {},
     "output_type": "execute_result"
    }
   ],
   "source": [
    "A"
   ]
  },
  {
   "cell_type": "markdown",
   "id": "accepted-spine",
   "metadata": {},
   "source": [
    "## Esempi di possibili combinazioni\n",
    "\n",
    "Combiniamo assieme questo tipo di indicizzazioni e vediamo degli esempi. Per ogni esempio costruiamo una matrice di zeri e assegnamo ad 1 le coordinate selezionate. In questo modo sarà semplice visualizzarle graficamente."
   ]
  },
  {
   "cell_type": "code",
   "execution_count": 204,
   "id": "adult-techno",
   "metadata": {},
   "outputs": [],
   "source": [
    "A = np.zeros((4,4))"
   ]
  },
  {
   "cell_type": "code",
   "execution_count": 240,
   "id": "discrete-ministry",
   "metadata": {},
   "outputs": [
    {
     "data": {
      "image/png": "[encoded data removed]",
      "text/plain": [
       "<Figure size 1440x1080 with 12 Axes>"
      ]
     },
     "metadata": {
      "needs_background": "light"
     },
     "output_type": "display_data"
    }
   ],
   "source": [
    "fig, ax = plt.subplots(nrows=3,ncols=4,figsize=(20,15))\n",
    "def vignetta(ax,M,label):\n",
    "    ax.matshow(M)\n",
    "    ax.set_title(label)\n",
    "    \n",
    "# top left\n",
    "A = np.zeros((4,4))\n",
    "vignetta(ax[0,0],A,\"data\")\n",
    "\n",
    "B = A.copy()\n",
    "B[0] = 1\n",
    "vignetta(ax[0,1],B,\"data[0]\")\n",
    "\n",
    "B = A.copy()\n",
    "B[1,:] = 1\n",
    "vignetta(ax[0,2],B,\"data[1,:]\")\n",
    "\n",
    "B = A.copy()\n",
    "B[:,2] = 1\n",
    "vignetta(ax[0,3],B,\"data[:,2]\")\n",
    "\n",
    "# second row\n",
    "B = A.copy()\n",
    "B[0:2,0:2] = 1\n",
    "vignetta(ax[1,0],B,\"data[0:2,0:2]\")\n",
    "\n",
    "B = A.copy()\n",
    "B[0:2,2:4] = 1\n",
    "vignetta(ax[1,1],B,\"data[0:2,2:4]\")\n",
    "\n",
    "B = A.copy()\n",
    "B[::2,::2] = 1\n",
    "vignetta(ax[1,2],B,\"data[::2,::2]\")\n",
    "\n",
    "B = A.copy()\n",
    "B[1::2,1::2] = 1\n",
    "vignetta(ax[1,3],B,\"data[1::2,1::2]\")\n",
    "\n",
    "# third row\n",
    "B = A.copy()\n",
    "B[:,[0,3]] = 1\n",
    "vignetta(ax[2,0],B,\"data[:,[0,3]]\")\n",
    "\n",
    "B = A.copy()\n",
    "B[[1,2,3],[0,3,1]] = 1\n",
    "vignetta(ax[2,1],B,\"data[[1,2,3],[0,3,1]]\")\n",
    "\n",
    "B = A.copy()\n",
    "B[:,[False,True,True,False]] = 1\n",
    "vignetta(ax[2,2],B,\"data[:,[False,True,True,False]]\")\n",
    "\n",
    "B = A.copy()\n",
    "B[1:3,[False,True,True,False]] = 1\n",
    "vignetta(ax[2,3],B,\"data[1:3,[False,True,True,False]]\")\n"
   ]
  },
  {
   "cell_type": "markdown",
   "id": "equipped-puzzle",
   "metadata": {},
   "source": [
    "## Filtraggio di elementi\n",
    "\n",
    "Abbiamo visto come utilizzare l'indicizzazione booleana su un asse dimensionale dell'array (ad esempio per selezionare righe e/o colonne in una matrice). È però possibile selezionare elemento per elemento, utilizzando un array booleano **delle stesse dimensioni** di quello da filtrare. \n"
   ]
  },
  {
   "cell_type": "code",
   "execution_count": 242,
   "id": "national-harbor",
   "metadata": {},
   "outputs": [
    {
     "data": {
      "text/plain": [
       "<matplotlib.image.AxesImage at 0x7f4cf94218e0>"
      ]
     },
     "execution_count": 242,
     "metadata": {},
     "output_type": "execute_result"
    },
    {
     "data": {
      "image/png": "[encoded data removed]",
      "text/plain": [
       "<Figure size 288x288 with 1 Axes>"
      ]
     },
     "metadata": {
      "needs_background": "light"
     },
     "output_type": "display_data"
    }
   ],
   "source": [
    "A = np.random.randn(10,10)\n",
    "plt.matshow(A)"
   ]
  },
  {
   "cell_type": "code",
   "execution_count": 243,
   "id": "virgin-graduation",
   "metadata": {},
   "outputs": [],
   "source": [
    "B = (A >= 0)   # B è una matrice di booleani"
   ]
  },
  {
   "cell_type": "code",
   "execution_count": 244,
   "id": "revised-warning",
   "metadata": {},
   "outputs": [
    {
     "data": {
      "text/plain": [
       "array([[False,  True, False,  True, False,  True,  True,  True, False,\n",
       "        False],\n",
       "       [False,  True, False, False,  True,  True,  True,  True, False,\n",
       "        False],\n",
       "       [False, False,  True,  True,  True, False,  True,  True,  True,\n",
       "         True],\n",
       "       [False, False,  True,  True,  True, False,  True,  True, False,\n",
       "         True],\n",
       "       [ True,  True,  True,  True,  True,  True,  True,  True,  True,\n",
       "         True],\n",
       "       [False,  True, False,  True,  True,  True,  True,  True, False,\n",
       "        False],\n",
       "       [False, False, False,  True,  True, False, False,  True, False,\n",
       "        False],\n",
       "       [False,  True,  True, False, False, False, False, False,  True,\n",
       "        False],\n",
       "       [False, False,  True,  True,  True,  True,  True, False, False,\n",
       "        False],\n",
       "       [False, False,  True, False,  True,  True, False,  True, False,\n",
       "        False]])"
      ]
     },
     "execution_count": 244,
     "metadata": {},
     "output_type": "execute_result"
    }
   ],
   "source": [
    "B"
   ]
  },
  {
   "cell_type": "code",
   "execution_count": 245,
   "id": "dental-sleeping",
   "metadata": {},
   "outputs": [
    {
     "data": {
      "text/plain": [
       "<matplotlib.image.AxesImage at 0x7f4cf8aad520>"
      ]
     },
     "execution_count": 245,
     "metadata": {},
     "output_type": "execute_result"
    },
    {
     "data": {
      "image/png": "[encoded data removed]",
      "text/plain": [
       "<Figure size 288x288 with 1 Axes>"
      ]
     },
     "metadata": {
      "needs_background": "light"
     },
     "output_type": "display_data"
    }
   ],
   "source": [
    "plt.matshow(B)"
   ]
  },
  {
   "cell_type": "markdown",
   "id": "built-pixel",
   "metadata": {},
   "source": [
    "Vedete bene che gli elementi selezionati non formano una sottomatrice. Possiamo usare la matrice `B` per selezionare dei valori da `A`."
   ]
  },
  {
   "cell_type": "code",
   "execution_count": 246,
   "id": "removed-princess",
   "metadata": {},
   "outputs": [
    {
     "data": {
      "text/plain": [
       "array([0.07342511, 1.70669239, 0.33897268, 0.40554781, 0.23841046,\n",
       "       1.29807448, 0.6172429 , 0.27321071, 1.51869765, 0.03079087,\n",
       "       0.51352595, 0.25243697, 0.4895966 , 0.88733414, 2.10985712,\n",
       "       0.24567013, 0.99089348, 0.74586387, 0.20151302, 0.14123789,\n",
       "       0.89285661, 0.82602322, 0.18730076, 0.62843127, 0.27747785,\n",
       "       1.102337  , 0.20036747, 0.53716588, 0.39306617, 0.31255051,\n",
       "       0.09717657, 0.64915236, 2.32625732, 0.40750183, 0.20077785,\n",
       "       0.8131992 , 1.14958573, 0.82926819, 1.09740614, 1.53025176,\n",
       "       0.98522173, 0.19776084, 1.11461458, 0.55355505, 1.63333133,\n",
       "       1.38717624, 0.46887028, 1.33513825, 0.26275903, 1.63776713,\n",
       "       0.10671331, 1.33827672, 0.68710401, 0.29680782])"
      ]
     },
     "execution_count": 246,
     "metadata": {},
     "output_type": "execute_result"
    }
   ],
   "source": [
    "A[B]"
   ]
  },
  {
   "cell_type": "markdown",
   "id": "aquatic-present",
   "metadata": {},
   "source": [
    "Oppure possiamo modificare i valori con un assegnamento."
   ]
  },
  {
   "cell_type": "code",
   "execution_count": 249,
   "id": "awful-slope",
   "metadata": {},
   "outputs": [],
   "source": [
    "A[B] = 5"
   ]
  },
  {
   "cell_type": "code",
   "execution_count": 250,
   "id": "unnecessary-kitchen",
   "metadata": {},
   "outputs": [
    {
     "data": {
      "text/plain": [
       "<matplotlib.image.AxesImage at 0x7f4cf8f0a520>"
      ]
     },
     "execution_count": 250,
     "metadata": {},
     "output_type": "execute_result"
    },
    {
     "data": {
      "image/png": "[encoded data removed]",
      "text/plain": [
       "<Figure size 288x288 with 1 Axes>"
      ]
     },
     "metadata": {
      "needs_background": "light"
     },
     "output_type": "display_data"
    }
   ],
   "source": [
    "plt.matshow(A)"
   ]
  },
  {
   "cell_type": "code",
   "execution_count": null,
   "id": "entertaining-climate",
   "metadata": {},
   "outputs": [],
   "source": []
  }
 ],
 "metadata": {
  "kernelspec": {
   "display_name": "Python 3",
   "language": "python",
   "name": "python3"
  },
  "language_info": {
   "codemirror_mode": {
    "name": "ipython",
    "version": 3
   },
   "file_extension": ".py",
   "mimetype": "text/x-python",
   "name": "python",
   "nbconvert_exporter": "python",
   "pygments_lexer": "ipython3",
   "version": "3.9.1"
  }
 },
 "nbformat": 4,
 "nbformat_minor": 5
}
