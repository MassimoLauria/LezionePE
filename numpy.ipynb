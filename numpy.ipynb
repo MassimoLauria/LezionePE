{
 "cells": [
  {
   "cell_type": "markdown",
   "id": "d8228033",
   "metadata": {},
   "source": [
    "# Numpy: array multidimensionali efficienti\n",
    "\n",
    "\n",
    "Grandi quantità di dati hanno spesso una struttura indicizzata. Per esempio una sequenza di numeri in una serie temporale\n",
    "\n",
    "$a_0, a_2, \\ldots, a_n$\n",
    "\n",
    "oppure una matrice che è una struttura con 2 dimensioni (righe e colonne).\n",
    "\n",
    "$$\n",
    "\\begin{equation}\n",
    "\\begin{bmatrix}\n",
    "1 & 2 & 3 & 4 & 5 & 6\\\\\n",
    "7 & 8 & 9 & 10 & 11 & 12 \\\\\n",
    "13 & 14 & 15 & 16 & 17 & 18\n",
    "\\end{bmatrix}\n",
    "\\end{equation}\n",
    "$$\n",
    "\n",
    "Pensate ad esempio ad una distribuzione di probabilità su tre variabili casuali $X$, $Y$, $Z$ distribuite tutte su un supporto finito (ad esempio $0,...,n-1$ per un certo valore $n$). Possiamo allora rappresentare questa distribuzione come una collezione di valori indicizzata da tre numeri\n",
    "\n",
    "$$\n",
    "P(i,j,k)  \\quad \\text{for $i$,$j$, $k$ $\\in\\{0,\\ldots ,n-1\\}$}\n",
    "$$\n",
    "\n",
    "\n"
   ]
  },
  {
   "cell_type": "markdown",
   "id": "ad8668de",
   "metadata": {},
   "source": [
    "## Rappresentazione standard in Python\n",
    "\n",
    "Abbiamo visto che python supporta facilmente sequenze di valori, e attraverso l'annidamento di liste si possono definite matrici o sequenze multidimensionali a piacere."
   ]
  },
  {
   "cell_type": "code",
   "execution_count": 6,
   "id": "2e033803",
   "metadata": {},
   "outputs": [
    {
     "data": {
      "text/plain": [
       "[0, 1, 2, 3, 4, 5, 6, 7, 8, 9]"
      ]
     },
     "execution_count": 6,
     "metadata": {},
     "output_type": "execute_result"
    }
   ],
   "source": [
    "X = list(range(0,10))\n",
    "X"
   ]
  },
  {
   "cell_type": "markdown",
   "id": "59ba690d",
   "metadata": {},
   "source": [
    "La funzione che andiamo a scrivere crea un array d-dimesionale di lunghezza $N$ lungo tutte le dimensioni.\n",
    "- se $d=0$, allora è un numero\n",
    "- se $d=1$, allora è una lista di numeri\n",
    "- se $d=2$, allora è una matrice $NxN$\n",
    "- ..."
   ]
  },
  {
   "cell_type": "code",
   "execution_count": 1,
   "id": "18d3c351",
   "metadata": {},
   "outputs": [],
   "source": [
    "import random\n",
    "from matplotlib.pyplot import matshow\n",
    "\n",
    "def creaarray(N,d):\n",
    "    \"Crea un array NxNxN..xN a d dimensioni, riempito di valori casuali.\"\n",
    "    if d<0:\n",
    "        raise ValueError\n",
    "    if d==0:\n",
    "        return round(random.random(),ndigits=2)\n",
    "    result = []\n",
    "    for i in range(N):\n",
    "        result.append(creaarray(N,d-1))\n",
    "    return result"
   ]
  },
  {
   "cell_type": "code",
   "execution_count": 2,
   "id": "5c68ccb1",
   "metadata": {},
   "outputs": [
    {
     "data": {
      "text/plain": [
       "0.08"
      ]
     },
     "execution_count": 2,
     "metadata": {},
     "output_type": "execute_result"
    }
   ],
   "source": [
    "creaarray(5,0)"
   ]
  },
  {
   "cell_type": "code",
   "execution_count": 3,
   "id": "cf51ac32",
   "metadata": {},
   "outputs": [
    {
     "data": {
      "text/plain": [
       "[0.28, 0.91, 0.07, 0.35, 0.36]"
      ]
     },
     "execution_count": 3,
     "metadata": {},
     "output_type": "execute_result"
    }
   ],
   "source": [
    "creaarray(5,1)"
   ]
  },
  {
   "cell_type": "code",
   "execution_count": 4,
   "id": "69bdc425",
   "metadata": {},
   "outputs": [
    {
     "name": "stdout",
     "output_type": "stream",
     "text": [
      "0.53\n"
     ]
    },
    {
     "data": {
      "text/plain": [
       "<matplotlib.image.AxesImage at 0x7f138e032640>"
      ]
     },
     "execution_count": 4,
     "metadata": {},
     "output_type": "execute_result"
    },
    {
     "data": {
      "image/png": "[encoded data removed]",
      "text/plain": [
       "<Figure size 288x288 with 1 Axes>"
      ]
     },
     "metadata": {
      "needs_background": "light"
     },
     "output_type": "display_data"
    }
   ],
   "source": [
    "M=creaarray(5,2)\n",
    "print(M[2][3])\n",
    "matshow(M)"
   ]
  },
  {
   "cell_type": "code",
   "execution_count": 38,
   "id": "9bd942a2",
   "metadata": {},
   "outputs": [
    {
     "data": {
      "text/plain": [
       "0.45"
      ]
     },
     "execution_count": 38,
     "metadata": {},
     "output_type": "execute_result"
    }
   ],
   "source": [
    "M = creaarray(5,4) # array 4-dimensionale\n",
    "\n",
    "M[2][3][3][1]"
   ]
  },
  {
   "cell_type": "markdown",
   "id": "d0b57dc5",
   "metadata": {},
   "source": [
    "## Ma allora perché Numpy?\n",
    "\n",
    "Python è un linguaggio molto flessibile e potente, tuttavia tutta questa flessibilità ha un costo: i dati all'interno di un array possono avere dimensioni differenti e addirittura tipi differenti. Ogni operazione in python si traduce in moltissime operazioni in linguaggio macchina. Anche la posizione in memoria dei dati conta: i processori hanno vari livelli di memorie **cache**. Senza entrare nel dettaglio sappiate solo che accedere a dati in memoria che sono vicini tra loro è più efficiente.\n",
    "\n",
    "- disomogeneità dei dati\n",
    "- dati collocati in memoria in posizioni imprevedibili\n",
    "- un'operazione python corrisponde a molte operazioni del processore\n",
    "\n",
    "Numpy utilizza una strategia differente per la memorizzazione di grandi quantità di dati\n",
    "\n",
    "- dati di dimensione e tipo fisso\n",
    "- dati memorizzati sequenzialmente\n",
    "- operazioni più semplici\n",
    "- parallelizzazione\n",
    "- meno flessibilità\n",
    "\n",
    "Prima di immergerci nelle caratteristiche di numpy, cerchiamo di capire se ne vale la pena.\n",
    "Vediamo un esempio dello stesso calcolo fatto con liste Python e con array 1-dimensionaly numpy. Vediamo la differenza nei tempi di esecuzione."
   ]
  },
  {
   "cell_type": "code",
   "execution_count": 43,
   "id": "b620aa53",
   "metadata": {},
   "outputs": [
    {
     "name": "stdout",
     "output_type": "stream",
     "text": [
      "100000\n",
      "100000\n"
     ]
    }
   ],
   "source": [
    "import numpy as np\n",
    "\n",
    "array_numpy = np.arange(0,100000,1)\n",
    "array_python = [x for x in range(100000)]\n",
    "print(len(array_numpy))\n",
    "print(len(array_python))"
   ]
  },
  {
   "cell_type": "code",
   "execution_count": 44,
   "id": "92739222",
   "metadata": {},
   "outputs": [
    {
     "name": "stdout",
     "output_type": "stream",
     "text": [
      "660 µs ± 25.1 µs per loop (mean ± std. dev. of 7 runs, 1000 loops each)\n"
     ]
    }
   ],
   "source": [
    "%timeit sum(array_python)"
   ]
  },
  {
   "cell_type": "code",
   "execution_count": 45,
   "id": "0e2b7318",
   "metadata": {},
   "outputs": [
    {
     "name": "stdout",
     "output_type": "stream",
     "text": [
      "41.8 µs ± 625 ns per loop (mean ± std. dev. of 7 runs, 10000 loops each)\n"
     ]
    }
   ],
   "source": [
    "%timeit np.sum(array_numpy)"
   ]
  },
  {
   "cell_type": "markdown",
   "id": "fea30df8",
   "metadata": {},
   "source": [
    "### Somma delle righe\n",
    "\n",
    "Vediamo un altro esempio. Prendiamo una matrice numerica 1000x1000 generata a caso, e ne calcoliamo la somma delle righe utilizzando\n",
    "- una funzione scritta in python\n",
    "- usando la funzione `sum` predefinita nella libreria standad python\n",
    "- usando numpy\n"
   ]
  },
  {
   "cell_type": "code",
   "execution_count": 62,
   "id": "29a7f0ce",
   "metadata": {},
   "outputs": [
    {
     "name": "stdout",
     "output_type": "stream",
     "text": [
      "22.8 ms ± 598 µs per loop (mean ± std. dev. of 7 runs, 10 loops each)\n"
     ]
    }
   ],
   "source": [
    "# Lista di liste\n",
    "M = creaarray(1000,2)\n",
    "\n",
    "def somma_di_righe1(matrice):\n",
    "    res = []\n",
    "    for riga in matrice:\n",
    "        somma = 0\n",
    "        for v in riga:\n",
    "            somma += v\n",
    "        res.append(somma)\n",
    "    return res    \n",
    "    \n",
    "%timeit somma_di_righe1(M)"
   ]
  },
  {
   "cell_type": "code",
   "execution_count": 63,
   "id": "6aa35506",
   "metadata": {},
   "outputs": [
    {
     "name": "stdout",
     "output_type": "stream",
     "text": [
      "4.59 ms ± 164 µs per loop (mean ± std. dev. of 7 runs, 100 loops each)\n"
     ]
    }
   ],
   "source": [
    "def somma_di_righe2(matrice):\n",
    "    return [sum(riga) for riga in matrice]\n",
    "\n",
    "%timeit somma_di_righe2(M)"
   ]
  },
  {
   "cell_type": "code",
   "execution_count": 64,
   "id": "b15b66e3",
   "metadata": {},
   "outputs": [
    {
     "name": "stdout",
     "output_type": "stream",
     "text": [
      "504 µs ± 11.9 µs per loop (mean ± std. dev. of 7 runs, 1000 loops each)\n"
     ]
    }
   ],
   "source": [
    "# numpy array\n",
    "\n",
    "M = np.random.random(size=(1000,1000))\n",
    "\n",
    "%timeit np.sum(M,axis=1) # somma muovendo l'indice di colonna"
   ]
  },
  {
   "cell_type": "markdown",
   "id": "f0eccc43",
   "metadata": {},
   "source": [
    "Passare dall'implementazione manuale all'uso di `sum` ha ridotto il tempo di esecuzione a 1/4 o 1/5. \n",
    "\n",
    "Passare all'uso di `numpy` ha ridotto ulteriormente il tempo di esecuzione di una altro fattore 10!\n"
   ]
  },
  {
   "cell_type": "markdown",
   "id": "ab5ade0c",
   "metadata": {},
   "source": [
    "### Somma delle colonne\n",
    "\n",
    "Facciamo adesso la stessa cosa sommando le colonne. Osserivamo però che per come sono strutturati i dati, **non è più possibile usare la funzione `sum`**.\n",
    "\n"
   ]
  },
  {
   "cell_type": "code",
   "execution_count": 65,
   "id": "e375c54f",
   "metadata": {},
   "outputs": [
    {
     "name": "stdout",
     "output_type": "stream",
     "text": [
      "90.3 ms ± 3.49 ms per loop (mean ± std. dev. of 7 runs, 10 loops each)\n"
     ]
    }
   ],
   "source": [
    "# Lista di liste\n",
    "M = creaarray(1000,2)\n",
    "\n",
    "def somma_di_colonne(matrice):\n",
    "    res = []\n",
    "    R,C = len(M),len(M[0])\n",
    "    for j in range(C):\n",
    "        somma = 0\n",
    "        for i in range(R):\n",
    "            somma += M[i][j]\n",
    "        res.append(somma)\n",
    "    return res    \n",
    "    \n",
    "%timeit somma_di_colonne(M)"
   ]
  },
  {
   "cell_type": "code",
   "execution_count": 67,
   "id": "3a1a5ed5",
   "metadata": {
    "scrolled": true
   },
   "outputs": [
    {
     "name": "stdout",
     "output_type": "stream",
     "text": [
      "505 µs ± 18 µs per loop (mean ± std. dev. of 7 runs, 1000 loops each)\n"
     ]
    }
   ],
   "source": [
    "# numpy array\n",
    "\n",
    "M = np.random.random(size=(1000,1000))\n",
    "\n",
    "%timeit np.sum(M,axis=0) # somma muovendo l'indice di riga"
   ]
  },
  {
   "cell_type": "markdown",
   "id": "64d99e9a",
   "metadata": {},
   "source": [
    "Mentre sommiamo lungo le colonne, la rappresentazione python come lista di righe rende il calcolo più complicato e lento. Il cambio di direzione invece non influisce minimamente dell'array numpy.\n",
    "\n",
    "*La differenza del tempo di esecuzione è di un fattore 200!*\n"
   ]
  },
  {
   "cell_type": "markdown",
   "id": "757b0ab4",
   "metadata": {},
   "source": [
    "Spero che questa piccola dimostrazione vi convinca che vale la pena imparare usare `numpy` se avete intenzione di fare calcoli con dati di dimensioni importanti."
   ]
  },
  {
   "cell_type": "markdown",
   "id": "1a4646a1",
   "metadata": {},
   "source": [
    "## La struttura dei dati in numpy\n",
    "\n",
    "Spero di avervi convinto che usare numpy è vantaggioso in molti scenari. Prima di vedere esattamente quali funzionalità forniscono gli array multidimensionali di numpy, spostiamoci sulla lavagna (virtuale) e vediamo di capirne la struttura. "
   ]
  },
  {
   "cell_type": "markdown",
   "id": "524c5463",
   "metadata": {},
   "source": [
    "## Creazione e indicizzazione\n",
    "\n",
    "Vediamo come creare un array multidimensionale con numpy, e vediamo come usare gli indici per accedere ai suoi valori. \n",
    "\n",
    "Iniziando importando numpy: visto che si usano molte funzioni da numpy, tipicamente si abbrevia il nome del pacchetto in fase di importazione per renderere le chiamate più brevi. L'abbreviazione `np` è molto comune in letteratura e perciò è consigliata."
   ]
  },
  {
   "cell_type": "code",
   "execution_count": 6,
   "id": "fdc0ebef",
   "metadata": {},
   "outputs": [
    {
     "data": {
      "text/plain": [
       "array([[[-1.9447372e+22,  3.0611365e-41,  0.0000000e+00,  0.0000000e+00],\n",
       "        [ 4.6200980e-02,  4.6200980e-02,  4.6200980e-02,  1.1692442e-19],\n",
       "        [ 2.5620078e+03,  2.9386312e+29,  1.1719100e-32,  1.3563156e-19]],\n",
       "\n",
       "       [[ 9.8439425e-12,  9.8439425e-12,  1.3563128e-19,  1.8578386e-01],\n",
       "        [ 2.0700732e-19,  2.9478562e+29,  7.9309520e+34,  2.3369673e-15],\n",
       "        [ 3.7125173e-14,  1.3563128e-19,  1.8578386e-01,  5.5568106e-11]],\n",
       "\n",
       "       [[ 2.8706052e+32,  1.8468116e+25,  1.3555978e-19,  8.5282820e-33],\n",
       "        [ 1.3563156e-19,  1.6114220e-19,  3.9173499e-02,  5.4667493e-11],\n",
       "        [ 3.0880990e+29,  1.9734509e+23,  8.1444302e-33,  1.3563156e-19]],\n",
       "\n",
       "       [[ 1.6114220e-19,  1.3181421e+25,  1.8540734e+25,  1.8062688e+28],\n",
       "        [ 1.3563128e-19,  1.1705309e-19,  1.5637255e-01,  1.1823856e+22],\n",
       "        [ 1.6019661e-19,  1.2871340e+22,  7.0975523e+22,  2.3364099e-15]],\n",
       "\n",
       "       [[ 1.1093670e+27,  2.3759545e-12,  5.4872711e-05,  4.9107552e-14],\n",
       "        [ 1.3563128e-19,  1.8578386e-01,  5.5568106e-11,  2.8706052e+32],\n",
       "        [ 1.8468116e+25,  1.3555978e-19,  8.4801338e-33,  1.3563128e-19]]],\n",
       "      dtype=float32)"
      ]
     },
     "execution_count": 6,
     "metadata": {},
     "output_type": "execute_result"
    }
   ],
   "source": [
    "import numpy as np\n",
    "\n",
    "# Creazione di un array di 3-dimensionale 3x5x5 \n",
    "#\n",
    "# ogni cella contiene un numero intero a 32 bit\n",
    "#\n",
    "# I dati *non* sono inizializzati\n",
    "\n",
    "V = np.ndarray((5,3,4),'float32')\n",
    "V"
   ]
  },
  {
   "cell_type": "code",
   "execution_count": 3,
   "id": "dd89c8e1",
   "metadata": {},
   "outputs": [
    {
     "data": {
      "text/plain": [
       "0.00088472385"
      ]
     },
     "execution_count": 3,
     "metadata": {},
     "output_type": "execute_result"
    }
   ],
   "source": [
    "# Ogni cella è indicizzata da una tupla di indici i1,i2,... \n",
    "# di lunghezza pari alla dimensione dell'array\n",
    "V[0,0,0]"
   ]
  },
  {
   "cell_type": "code",
   "execution_count": 4,
   "id": "0d1630d1",
   "metadata": {},
   "outputs": [
    {
     "ename": "IndexError",
     "evalue": "index 5 is out of bounds for axis 0 with size 5",
     "output_type": "error",
     "traceback": [
      "\u001b[1;31m---------------------------------------------------------------------------\u001b[0m",
      "\u001b[1;31mIndexError\u001b[0m                                Traceback (most recent call last)",
      "\u001b[1;32m<ipython-input-4-9eeeeebf14c5>\u001b[0m in \u001b[0;36m<module>\u001b[1;34m\u001b[0m\n\u001b[0;32m      1\u001b[0m \u001b[1;31m# Accesso fuori dal range della coordinata 0 (i.e. axis 0)\u001b[0m\u001b[1;33m\u001b[0m\u001b[1;33m\u001b[0m\u001b[1;33m\u001b[0m\u001b[0m\n\u001b[1;32m----> 2\u001b[1;33m \u001b[0mV\u001b[0m\u001b[1;33m[\u001b[0m\u001b[1;36m5\u001b[0m\u001b[1;33m,\u001b[0m\u001b[1;36m0\u001b[0m\u001b[1;33m,\u001b[0m\u001b[1;36m0\u001b[0m\u001b[1;33m]\u001b[0m\u001b[1;33m\u001b[0m\u001b[1;33m\u001b[0m\u001b[0m\n\u001b[0m",
      "\u001b[1;31mIndexError\u001b[0m: index 5 is out of bounds for axis 0 with size 5"
     ]
    }
   ],
   "source": [
    "# Accesso fuori dal range della coordinata 0 (i.e. axis 0)\n",
    "V[5,0,0]"
   ]
  },
  {
   "cell_type": "code",
   "execution_count": 5,
   "id": "f01f031c",
   "metadata": {},
   "outputs": [
    {
     "data": {
      "text/plain": [
       "-5.643574e+35"
      ]
     },
     "execution_count": 5,
     "metadata": {},
     "output_type": "execute_result"
    }
   ],
   "source": [
    "V[1,2,2]"
   ]
  },
  {
   "cell_type": "markdown",
   "id": "c96550cc",
   "metadata": {},
   "source": [
    "### Dati non inizializzati\n",
    "\n",
    "Il contenuto dell'array non è inizializzato, nel senso che l'array viene posizionato in qualche punto della memoria del computer, e il contenuto dell'array è qualunque cosa ci sia in memoria in quel momento.\n",
    "\n",
    "Questo è *molto rapido* perché non richiede di scorrere tutte le celle per assegnargli un valore iniziale (per esempio zero). \n",
    "\n",
    "Tuttavia è ovvio che non si può scrivere un programma che faccia affidamento sul valore iniziale di quelle celle. \n",
    "\n",
    "**Quando si lavora a 'basso livello' è necessario preoccuparsi di queste cose**\n",
    "\n",
    "**Compromesso tra efficienza e semplicità**"
   ]
  },
  {
   "cell_type": "markdown",
   "id": "ea98a1c6",
   "metadata": {},
   "source": [
    "### Elementi fondamentali di un array multidimensionale\n",
    "\n",
    "Un array multidimensionale ha alcuni attributi che ne descrivono le caratteristiche principali\n",
    "\n",
    "- `ndim`   quante dimensioni ha l'array (ovvero quanti assi)\n",
    "- `shape`  l'estensione lungo ogni dimensione \n",
    "- `size`   il numero totale di elementi\n",
    "- `dtype`  il tipo di elementi nell'array\n",
    "- `nbytes` in numero di bytes totali utilizzati per memorizzare i dati"
   ]
  },
  {
   "cell_type": "code",
   "execution_count": 7,
   "id": "4bf32a5f",
   "metadata": {},
   "outputs": [
    {
     "name": "stdout",
     "output_type": "stream",
     "text": [
      "<class 'numpy.ndarray'>\n",
      "ndim  : 3\n",
      "shape : (5, 3, 4)\n",
      "size  : 60\n",
      "dtype : float32\n",
      "nbytes: 240\n"
     ]
    }
   ],
   "source": [
    "print(type(V))\n",
    "print(\"ndim  :\", V.ndim)\n",
    "print(\"shape :\", V.shape)\n",
    "print(\"size  :\", V.size)\n",
    "print(\"dtype :\", V.dtype)\n",
    "print(\"nbytes:\", V.nbytes)\n"
   ]
  },
  {
   "cell_type": "markdown",
   "id": "ambient-prairie",
   "metadata": {},
   "source": [
    "### Creiamo un array con dei dati indicati come argomento\n",
    "\n",
    "Possiamo creare un array inizializzandolo con dei dati predeterminati usando in metodo `array`"
   ]
  },
  {
   "cell_type": "code",
   "execution_count": 8,
   "id": "competitive-armenia",
   "metadata": {},
   "outputs": [],
   "source": [
    "A = np.array([1,2,3,4])"
   ]
  },
  {
   "cell_type": "code",
   "execution_count": 9,
   "id": "intimate-coverage",
   "metadata": {},
   "outputs": [
    {
     "name": "stdout",
     "output_type": "stream",
     "text": [
      "<class 'numpy.ndarray'>\n",
      "ndim  : 1\n",
      "shape : (4,)\n",
      "size  : 4\n",
      "dtype : int64\n",
      "nbytes: 32\n"
     ]
    }
   ],
   "source": [
    "print(type(A))\n",
    "print(\"ndim  :\", A.ndim)\n",
    "print(\"shape :\", A.shape)\n",
    "print(\"size  :\", A.size)\n",
    "print(\"dtype :\", A.dtype)\n",
    "print(\"nbytes:\", A.nbytes)"
   ]
  },
  {
   "cell_type": "code",
   "execution_count": 10,
   "id": "accompanied-trailer",
   "metadata": {},
   "outputs": [],
   "source": [
    "B = np.array([[1,2,3,4],[5,6,7,8],[9,10,11,12]])"
   ]
  },
  {
   "cell_type": "code",
   "execution_count": 11,
   "id": "floral-blame",
   "metadata": {},
   "outputs": [
    {
     "name": "stdout",
     "output_type": "stream",
     "text": [
      "<class 'numpy.ndarray'>\n",
      "ndim  : 2\n",
      "shape : (3, 4)\n",
      "size  : 12\n",
      "dtype : int64\n",
      "nbytes: 96\n"
     ]
    }
   ],
   "source": [
    "print(type(B))\n",
    "print(\"ndim  :\", B.ndim)\n",
    "print(\"shape :\", B.shape)\n",
    "print(\"size  :\", B.size)\n",
    "print(\"dtype :\", B.dtype)\n",
    "print(\"nbytes:\", B.nbytes)"
   ]
  },
  {
   "cell_type": "code",
   "execution_count": 13,
   "id": "powerful-oxford",
   "metadata": {},
   "outputs": [
    {
     "data": {
      "text/plain": [
       "<matplotlib.image.AxesImage at 0x7f138deeba90>"
      ]
     },
     "execution_count": 13,
     "metadata": {},
     "output_type": "execute_result"
    },
    {
     "data": {
      "image/png": "[encoded data removed]",
      "text/plain": [
       "<Figure size 384x288 with 1 Axes>"
      ]
     },
     "metadata": {
      "needs_background": "light"
     },
     "output_type": "display_data"
    }
   ],
   "source": [
    "matshow(B)"
   ]
  },
  {
   "cell_type": "markdown",
   "id": "reserved-imaging",
   "metadata": {},
   "source": [
    "### I tipi di dati numerici supportati\n",
    "\n",
    "Gli array numerici numpy di solito contengono tipi di dati di dimensione fissa, di 8, 16, 32, 64 o 128 bit, che rappresentano numeri interi, reali o complessi. \n",
    "\n",
    "Al contrario degli interi standard python questi hanno una dimensione fissa e quindi possono rappresentare valori in un range limitato.\n",
    "\n",
    "\n",
    "| dtype | varianti |  |\n",
    "|--- | --- | ---\n",
    "|int | int8, int16, int32, int64 | Interi con segno |\n",
    "|uint |  uint8, uint16, uint32, uint64 | Interi senza segno\n",
    "|bool|  Bool | vero o falso |\n",
    "|float| float16, float32, float64, float128 | Numeri reali\n",
    "|complex| complex64, complex128, complex256 | Numeri complessi"
   ]
  },
  {
   "cell_type": "code",
   "execution_count": 22,
   "id": "scheduled-recall",
   "metadata": {},
   "outputs": [
    {
     "data": {
      "text/plain": [
       "(dtype('float32'), dtype('float64'), dtype('float64'))"
      ]
     },
     "execution_count": 22,
     "metadata": {},
     "output_type": "execute_result"
    }
   ],
   "source": [
    "A = np.array([1.2,3.2,-0.4],'float32')\n",
    "B = np.array([1.2,3.2,-0.4],'float64')\n",
    "C = np.array([1.2,3.2,-0.4],'float')\n",
    "A.dtype, B.dtype, C.dtype"
   ]
  },
  {
   "cell_type": "code",
   "execution_count": null,
   "id": "intellectual-selling",
   "metadata": {},
   "outputs": [],
   "source": []
  }
 ],
 "metadata": {
  "kernelspec": {
   "display_name": "Python 3",
   "language": "python",
   "name": "python3"
  },
  "language_info": {
   "codemirror_mode": {
    "name": "ipython",
    "version": 3
   },
   "file_extension": ".py",
   "mimetype": "text/x-python",
   "name": "python",
   "nbconvert_exporter": "python",
   "pygments_lexer": "ipython3",
   "version": "3.9.1"
  }
 },
 "nbformat": 4,
 "nbformat_minor": 5
}
