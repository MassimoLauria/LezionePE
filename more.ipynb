{
 "cells": [
  {
   "cell_type": "markdown",
   "id": "aae2541a",
   "metadata": {},
   "source": [
    "# Un esercizio di confronto di performance\n",
    "\n",
    "\n",
    "\n",
    "IPython e la sua interfaccia web Jupyter sono ambienti ideali per sperimentare interattivamente con del codice, analizzare dati, fare dei prototipi per dei programmi, e documentare idee. Vediamo un esempio: mostreremo la differenza di prestazioni tra un codice iterativo e uno ricorsivo per il calcolo della funzione di fibonacci. "
   ]
  },
  {
   "cell_type": "markdown",
   "id": "80b878f8",
   "metadata": {},
   "source": [
    "In Jupyter possiamo mettere all'inizio di una cella la stringa `%%file <nomefile>` ed il contenuto di questa cella non verrà eseguito, bensì salvato sul file corrispondente. Normalmente non è il caso di scrivere programmi lunghi o moduli python all'interno di una cella di un notebook Jupyter, tuttavia per questo esempio volevo che vedeste il codice per intero. Segue l'implementazione delle due versioni di fibonacci.\n",
    "\n"
   ]
  },
  {
   "cell_type": "code",
   "execution_count": 36,
   "id": "86fa7d33",
   "metadata": {},
   "outputs": [
    {
     "name": "stdout",
     "output_type": "stream",
     "text": [
      "Overwriting fib.py\n"
     ]
    }
   ],
   "source": [
    "%%file fib.py\n",
    "\n",
    "def ifib(n):\n",
    "    if n<=0:\n",
    "        return 0\n",
    "    elif n==1:\n",
    "        return 1\n",
    "    \n",
    "    old, cur = 0,1\n",
    "    for i in range(2,n+1):\n",
    "        old , cur = cur, cur+old\n",
    "    return cur\n",
    "\n",
    "\n",
    "def rfib(n):\n",
    "    if n<=0:\n",
    "        return 0\n",
    "    elif n==1:\n",
    "        return 1\n",
    "    \n",
    "    return rfib(n-1)+rfib(n-2)\n",
    "\n",
    "\n",
    "\n",
    "if __name__ == '__main__':\n",
    "    print(\"Eseguito direttamente nel sorgente fib.py\")\n",
    "    print(\"Eseguo fib iterativo per n=100: \", end='')\n",
    "    print(ifib(100))\n",
    "    print(\"Eseguo fib ricorsivo per n=20: \", end='')\n",
    "    print(rfib(20))\n",
    "    "
   ]
  },
  {
   "cell_type": "code",
   "execution_count": 32,
   "id": "6ef7dc33",
   "metadata": {},
   "outputs": [
    {
     "name": "stdout",
     "output_type": "stream",
     "text": [
      "IPython - un ambiente interattivo python avanzato.ipynb\r\n",
      "Indice degli argomenti.ipynb\r\n",
      "More about IPython and Jupyter.ipynb\r\n",
      "\u001b[1m\u001b[34m__pycache__\u001b[m\u001b[m\r\n",
      "fib.py\r\n"
     ]
    }
   ],
   "source": [
    "!ls"
   ]
  },
  {
   "cell_type": "markdown",
   "id": "34372036",
   "metadata": {},
   "source": [
    "## Eseguire un programma contenuto in un file esterno\n",
    "\n",
    "Il comando *magico* `%run <nomefile>` permette di eseguire un programma python contenuto in un file esterno. Essenzialmente è come se il programma venisse eseguito con il comando \n",
    "```\n",
    "$ python <nomefile>\n",
    "```\n",
    "\n",
    "con la differenza che tutte le funzioni, le variabili globali, e gli oggetti definiti dal programma restano a disposizione della sessione IPython."
   ]
  },
  {
   "cell_type": "code",
   "execution_count": 5,
   "id": "d45d2d77",
   "metadata": {},
   "outputs": [
    {
     "name": "stdout",
     "output_type": "stream",
     "text": [
      "Eseguito direttamente nel sorgente fib.py\n",
      "Eseguo fib iterativo per n=100: 354224848179261915075\n",
      "Eseguo fib ricorsivo per n=20: 6765\n"
     ]
    }
   ],
   "source": [
    "%run fib.py"
   ]
  },
  {
   "cell_type": "code",
   "execution_count": 6,
   "id": "7439ceb1",
   "metadata": {},
   "outputs": [
    {
     "data": {
      "text/plain": [
       "55"
      ]
     },
     "execution_count": 6,
     "metadata": {},
     "output_type": "execute_result"
    }
   ],
   "source": [
    "ifib(10)"
   ]
  },
  {
   "cell_type": "code",
   "execution_count": 7,
   "id": "e64067a0",
   "metadata": {},
   "outputs": [
    {
     "data": {
      "text/plain": [
       "55"
      ]
     },
     "execution_count": 7,
     "metadata": {},
     "output_type": "execute_result"
    }
   ],
   "source": [
    "rfib(10)"
   ]
  },
  {
   "cell_type": "markdown",
   "id": "70b151cf",
   "metadata": {},
   "source": [
    "Le funzioni `ifib` e `rfib` non sono mai state importate nella sessione IPython, eppure sono presenti perché sono state create durante l'esecuzione di `fib.py`."
   ]
  },
  {
   "cell_type": "markdown",
   "id": "c6fd61e0",
   "metadata": {},
   "source": [
    "## Valutare il tempo di esecuzione di una funzione\n",
    "\n",
    "È possibile usare il comando magico `%timeit` per stimare il tempo di esecuzione di una espressione python. L'espressione viene eseguita numerose volte, in modo che la stima sia accurata."
   ]
  },
  {
   "cell_type": "code",
   "execution_count": 45,
   "id": "9bbb3ca6",
   "metadata": {},
   "outputs": [
    {
     "name": "stdout",
     "output_type": "stream",
     "text": [
      "4.34 µs ± 42.8 ns per loop (mean ± std. dev. of 7 runs, 100000 loops each)\n"
     ]
    }
   ],
   "source": [
    "%timeit ifib(100)"
   ]
  },
  {
   "cell_type": "code",
   "execution_count": 46,
   "id": "8d2b428b",
   "metadata": {},
   "outputs": [
    {
     "name": "stdout",
     "output_type": "stream",
     "text": [
      "2.44 ms ± 52.8 µs per loop (mean ± std. dev. of 7 runs, 100 loops each)\n"
     ]
    }
   ],
   "source": [
    "%timeit rfib(20)"
   ]
  },
  {
   "cell_type": "markdown",
   "id": "3c679fab",
   "metadata": {},
   "source": [
    "## Stima del tempo di esecuzione in python\n",
    "\n",
    "Adesso facciamo la stessa cosa usando una funzione python. La funzione eseguirà il programma 10 volte e restituirà il tempo medio di esecuzione. "
   ]
  },
  {
   "cell_type": "code",
   "execution_count": 48,
   "id": "bc847aa7",
   "metadata": {},
   "outputs": [],
   "source": [
    "import time\n",
    "\n",
    "def tempodiesecuzione(funzione,parametro,ripetizioni=10):\n",
    "\n",
    "    start_time = time.time()\n",
    "    \n",
    "    for i in range(ripetizioni):\n",
    "        funzione(parametro)\n",
    "    \n",
    "    end_time = time.time()\n",
    "    return (end_time - start_time) / ripetizioni\n"
   ]
  },
  {
   "cell_type": "markdown",
   "id": "43fee4d7",
   "metadata": {},
   "source": [
    "## Eseguiamo i calcoli per n da 1 a 30\n",
    "\n",
    "Per *n* da 1 a 30 stimiamo i tempi di esecuzione di entrambe le funzioni, `ifib` e `rfib`."
   ]
  },
  {
   "cell_type": "code",
   "execution_count": 51,
   "id": "602fd19e",
   "metadata": {},
   "outputs": [
    {
     "name": "stdout",
     "output_type": "stream",
     "text": [
      "range(1, 41)\n",
      "[6.914138793945312e-07, 7.867813110351562e-07, 1.9073486328125e-06, 3.0040740966796874e-06, 3.1948089599609376e-06, 7.510185241699219e-06, 8.988380432128907e-06, 1.4209747314453125e-05, 2.2983551025390626e-05, 3.781318664550781e-05, 6.21795654296875e-05, 9.949207305908203e-05, 0.00016100406646728515, 0.00031511783599853517, 0.00042896270751953126, 0.0007378101348876953, 0.0011889219284057617, 0.0018507719039916992, 0.002106499671936035, 0.0026952743530273436, 0.0042772054672241214, 0.006899118423461914, 0.011440587043762208, 0.018552708625793456, 0.029873299598693847, 0.047280406951904295, 0.07879810333251953, 0.12045769691467285, 0.18978450298309327, 0.30736680030822755, 0.4994945764541626, 0.8173216819763184, 1.347270679473877, 2.2695373058319093, 3.714613199234009, 6.0513880252838135, 10.058478832244873, 16.096309900283813, 27.09162974357605, 44.249428033828735]\n",
      "[5.7220458984375e-07, 1.0967254638671874e-06, 9.059906005859375e-07, 9.059906005859375e-07, 1.0013580322265625e-06, 1.0013580322265625e-06, 1.0967254638671874e-06, 1.1920928955078125e-06, 1.3113021850585938e-06, 1.3589859008789063e-06, 3.1948089599609376e-06, 1.621246337890625e-06, 1.52587890625e-06, 1.5735626220703124e-06, 1.71661376953125e-06, 1.7881393432617188e-06, 1.9073486328125e-06, 1.9073486328125e-06, 2.002716064453125e-06, 2.09808349609375e-06, 2.2172927856445314e-06, 2.312660217285156e-06, 2.384185791015625e-06, 2.408027648925781e-06, 2.5987625122070313e-06, 2.47955322265625e-06, 2.6226043701171875e-06, 2.6941299438476564e-06, 2.789497375488281e-06, 2.8133392333984377e-06, 2.884864807128906e-06, 2.9802322387695312e-06, 3.0994415283203125e-06, 3.1948089599609376e-06, 3.314018249511719e-06, 3.266334533691406e-06, 3.3855438232421873e-06, 3.409385681152344e-06, 3.4809112548828124e-06, 3.814697265625e-06]\n"
     ]
    }
   ],
   "source": [
    "X = range(1,41)  # numeri da 1 a 40\n",
    "\n",
    "# Fibonacci iterativo\n",
    "I = []\n",
    "for n in X:\n",
    "    t = tempodiesecuzione(ifib,n)\n",
    "    I.append(t)\n",
    "    \n",
    "# Fibonacci ricorsivo\n",
    "R = []\n",
    "for n in X:\n",
    "    if n>34:\n",
    "        t = tempodiesecuzione(rfib,n,ripetizioni=1)\n",
    "    else:\n",
    "        t = tempodiesecuzione(rfib,n)\n",
    "    R.append(t)\n",
    "        \n",
    "print(X)\n",
    "print(R)\n",
    "print(I)\n"
   ]
  },
  {
   "cell_type": "markdown",
   "id": "cd4c672c",
   "metadata": {},
   "source": [
    "## Plot dei dati appena ottenuti\n",
    "\n",
    "I dati ottenuti possiamo visualizzarli utilizzando diverse tecniche. Qui vediamo il classico grafico dove la dimensione dell'input è sull'asse x e i tempi di esecuzione dei due programmi sono sull'asse y.\n",
    "\n",
    "Per fare questo plot utiliziamo la libreria `matplotlib`"
   ]
  },
  {
   "cell_type": "code",
   "execution_count": 67,
   "id": "5664ef44",
   "metadata": {},
   "outputs": [
    {
     "data": {
      "text/plain": [
       "<matplotlib.legend.Legend at 0x125fe0450>"
      ]
     },
     "execution_count": 67,
     "metadata": {},
     "output_type": "execute_result"
    },
    {
     "data": {
      "image/png": "[encoded data removed]",
      "text/plain": [
       "<Figure size 720x720 with 1 Axes>"
      ]
     },
     "metadata": {
      "needs_background": "light"
     },
     "output_type": "display_data"
    }
   ],
   "source": [
    "import matplotlib.pyplot as plt\n",
    "\n",
    "plt.figure(figsize=(10,10))\n",
    "plt.plot(X,R,label='Recursive')\n",
    "plt.plot(X,I,label='Iterative')\n",
    "plt.legend()\n"
   ]
  },
  {
   "cell_type": "markdown",
   "id": "8d4f1985",
   "metadata": {},
   "source": [
    "La versione ricorsiva ha un tempo di esecuzione che cresce molto più velocemente della versione iterativa.\n",
    "Possiamo scalare l'asse delle y in modo logaritmico, così da osservare meglio l'andamento."
   ]
  },
  {
   "cell_type": "code",
   "execution_count": 68,
   "id": "ad6050d2",
   "metadata": {},
   "outputs": [
    {
     "data": {
      "text/plain": [
       "<matplotlib.legend.Legend at 0x125b59d10>"
      ]
     },
     "execution_count": 68,
     "metadata": {},
     "output_type": "execute_result"
    },
    {
     "data": {
      "image/png": "[encoded data removed]",
      "text/plain": [
       "<Figure size 720x720 with 1 Axes>"
      ]
     },
     "metadata": {
      "needs_background": "light"
     },
     "output_type": "display_data"
    }
   ],
   "source": [
    "plt.figure(figsize=(10,10))\n",
    "plt.plot(X,R,label='Recursive')\n",
    "plt.plot(X,I,label='Iterative')\n",
    "plt.yscale('log')\n",
    "plt.legend()\n"
   ]
  },
  {
   "cell_type": "markdown",
   "id": "d70611be",
   "metadata": {},
   "source": [
    "## Jupyter vs IPython\n",
    "\n",
    "Abbiamo lavorato sia in IPython che in Jupyter, e abbiamo visto che le operazioni possibili nei due ambienti sono molto simili. Questo non è sorprendente perché Jupyter nasce come interfaccia web per IPython. Vediamo le principali differenze tra i due ambienti:\n",
    "\n",
    "\n",
    "| |  IPython | Jupyter |\n",
    "--- | --- | --- \n",
    "sessione | singola | multiple celle\n",
    "plot | salvare su file | mostrati \"in linea\" \n",
    "salvataggio | nessuno | file notebook\n",
    "testo | no|celle markdown\n",
    "esecuzione | singolo programma | servizio web\n",
    "debugger | integrato |  no\n"
   ]
  }
 ],
 "metadata": {
  "kernelspec": {
   "display_name": "Python 3",
   "language": "python",
   "name": "python3"
  },
  "language_info": {
   "codemirror_mode": {
    "name": "ipython",
    "version": 3
   },
   "file_extension": ".py",
   "mimetype": "text/x-python",
   "name": "python",
   "nbconvert_exporter": "python",
   "pygments_lexer": "ipython3",
   "version": "3.9.1"
  }
 },
 "nbformat": 4,
 "nbformat_minor": 5
}
